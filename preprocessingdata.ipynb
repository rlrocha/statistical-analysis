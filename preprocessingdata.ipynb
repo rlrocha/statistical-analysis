{
 "cells": [
  {
   "cell_type": "code",
   "execution_count": 12,
   "id": "3fd4b334-f220-4c7d-8a6b-a64660928ddd",
   "metadata": {},
   "outputs": [],
   "source": [
    "import numpy as np\n",
    "import pandas as pd"
   ]
  },
  {
   "cell_type": "code",
   "execution_count": 7,
   "id": "8befc10a-ac86-4c7f-99be-1724007b36ea",
   "metadata": {},
   "outputs": [],
   "source": [
    "dado1 = np.load('dados/a.npz')\n",
    "dado2 = np.load('dados/ab.npz')\n",
    "dado3 = np.load('dados/ac.npz')\n",
    "dado4 = np.load('dados/abc.npz')\n",
    "dado5 = np.load('dados/ho_mlp.npz')\n",
    "dado6 = np.load('dados/ho_svm.npz')\n",
    "dado7 = np.load('dados/ho_cnn.npz')"
   ]
  },
  {
   "cell_type": "code",
   "execution_count": 8,
   "id": "5bfa05ee-7ec1-4c6b-ac8a-08dd87ffd7fc",
   "metadata": {},
   "outputs": [
    {
     "data": {
      "text/plain": [
       "['train_loss_list',\n",
       " 'train_acc_list',\n",
       " 'test_loss_list',\n",
       " 'test_acc_list',\n",
       " 'metrics_list',\n",
       " 'train_list',\n",
       " 'test_list']"
      ]
     },
     "execution_count": 8,
     "metadata": {},
     "output_type": "execute_result"
    }
   ],
   "source": [
    "dado7.files"
   ]
  },
  {
   "cell_type": "code",
   "execution_count": 9,
   "id": "fb181125-a4a7-40a4-80b7-520d9a6b5d7c",
   "metadata": {},
   "outputs": [],
   "source": [
    "x1 = dado1['test_acc_list']\n",
    "x2 = dado2['test_acc_list']\n",
    "x3 = dado3['test_acc_list']\n",
    "x4 = dado4['test_acc_list']\n",
    "x5 = dado5['test_acc_list']\n",
    "x6 = dado6['test_acc_list']\n",
    "x7 = dado7['test_acc_list']"
   ]
  },
  {
   "cell_type": "code",
   "execution_count": 28,
   "id": "e42d55da-a2f3-43d7-aedd-dde08c866251",
   "metadata": {},
   "outputs": [],
   "source": [
    "dados = {'A': x1,\n",
    "         'B': x2,\n",
    "         'C': x3,\n",
    "         'D': x4,\n",
    "         'E': x5,\n",
    "         'F': x6,\n",
    "         'G': x7}"
   ]
  },
  {
   "cell_type": "code",
   "execution_count": 29,
   "id": "d0f2c92d-be7e-442a-b1fd-6cc8c6b44d48",
   "metadata": {},
   "outputs": [
    {
     "data": {
      "text/html": [
       "<div>\n",
       "<style scoped>\n",
       "    .dataframe tbody tr th:only-of-type {\n",
       "        vertical-align: middle;\n",
       "    }\n",
       "\n",
       "    .dataframe tbody tr th {\n",
       "        vertical-align: top;\n",
       "    }\n",
       "\n",
       "    .dataframe thead th {\n",
       "        text-align: right;\n",
       "    }\n",
       "</style>\n",
       "<table border=\"1\" class=\"dataframe\">\n",
       "  <thead>\n",
       "    <tr style=\"text-align: right;\">\n",
       "      <th></th>\n",
       "      <th>A</th>\n",
       "      <th>B</th>\n",
       "      <th>C</th>\n",
       "      <th>D</th>\n",
       "      <th>E</th>\n",
       "      <th>F</th>\n",
       "      <th>G</th>\n",
       "    </tr>\n",
       "  </thead>\n",
       "  <tbody>\n",
       "    <tr>\n",
       "      <th>0</th>\n",
       "      <td>0.919192</td>\n",
       "      <td>0.939394</td>\n",
       "      <td>0.921717</td>\n",
       "      <td>0.946970</td>\n",
       "      <td>0.911616</td>\n",
       "      <td>0.911616</td>\n",
       "      <td>0.939394</td>\n",
       "    </tr>\n",
       "    <tr>\n",
       "      <th>1</th>\n",
       "      <td>0.957071</td>\n",
       "      <td>0.941919</td>\n",
       "      <td>0.929293</td>\n",
       "      <td>0.936869</td>\n",
       "      <td>0.931818</td>\n",
       "      <td>0.929293</td>\n",
       "      <td>0.941919</td>\n",
       "    </tr>\n",
       "    <tr>\n",
       "      <th>2</th>\n",
       "      <td>0.929293</td>\n",
       "      <td>0.946970</td>\n",
       "      <td>0.916667</td>\n",
       "      <td>0.954545</td>\n",
       "      <td>0.936869</td>\n",
       "      <td>0.934343</td>\n",
       "      <td>0.946970</td>\n",
       "    </tr>\n",
       "    <tr>\n",
       "      <th>3</th>\n",
       "      <td>0.939394</td>\n",
       "      <td>0.957071</td>\n",
       "      <td>0.929293</td>\n",
       "      <td>0.936869</td>\n",
       "      <td>0.929293</td>\n",
       "      <td>0.936869</td>\n",
       "      <td>0.957071</td>\n",
       "    </tr>\n",
       "    <tr>\n",
       "      <th>4</th>\n",
       "      <td>0.959596</td>\n",
       "      <td>0.946970</td>\n",
       "      <td>0.929293</td>\n",
       "      <td>0.954545</td>\n",
       "      <td>0.921717</td>\n",
       "      <td>0.944444</td>\n",
       "      <td>0.946970</td>\n",
       "    </tr>\n",
       "  </tbody>\n",
       "</table>\n",
       "</div>"
      ],
      "text/plain": [
       "          A         B         C         D         E         F         G\n",
       "0  0.919192  0.939394  0.921717  0.946970  0.911616  0.911616  0.939394\n",
       "1  0.957071  0.941919  0.929293  0.936869  0.931818  0.929293  0.941919\n",
       "2  0.929293  0.946970  0.916667  0.954545  0.936869  0.934343  0.946970\n",
       "3  0.939394  0.957071  0.929293  0.936869  0.929293  0.936869  0.957071\n",
       "4  0.959596  0.946970  0.929293  0.954545  0.921717  0.944444  0.946970"
      ]
     },
     "execution_count": 29,
     "metadata": {},
     "output_type": "execute_result"
    }
   ],
   "source": [
    "df = pd.DataFrame(dados)\n",
    "df.head()"
   ]
  },
  {
   "cell_type": "code",
   "execution_count": 30,
   "id": "a8393f60-695b-4b49-87b5-bdb28e48d126",
   "metadata": {},
   "outputs": [
    {
     "data": {
      "text/plain": [
       "0     0.919192\n",
       "1     0.957071\n",
       "2     0.929293\n",
       "3     0.939394\n",
       "4     0.959596\n",
       "        ...   \n",
       "95    0.931818\n",
       "96    0.946970\n",
       "97    0.931818\n",
       "98    0.919192\n",
       "99    0.931818\n",
       "Name: A, Length: 100, dtype: float64"
      ]
     },
     "execution_count": 30,
     "metadata": {},
     "output_type": "execute_result"
    }
   ],
   "source": [
    "df['A']"
   ]
  },
  {
   "cell_type": "code",
   "execution_count": 32,
   "id": "070d9cd3-4cde-46c2-8a70-86610d1830d3",
   "metadata": {},
   "outputs": [],
   "source": [
    "#df.to_csv(\"dados/dados.csv\", index=False)"
   ]
  },
  {
   "cell_type": "code",
   "execution_count": null,
   "id": "c0d4877c-0e39-4b70-9051-b63d125968ed",
   "metadata": {},
   "outputs": [],
   "source": []
  }
 ],
 "metadata": {
  "kernelspec": {
   "display_name": "Python 3",
   "language": "python",
   "name": "python3"
  },
  "language_info": {
   "codemirror_mode": {
    "name": "ipython",
    "version": 3
   },
   "file_extension": ".py",
   "mimetype": "text/x-python",
   "name": "python",
   "nbconvert_exporter": "python",
   "pygments_lexer": "ipython3",
   "version": "3.8.10"
  }
 },
 "nbformat": 4,
 "nbformat_minor": 5
}
